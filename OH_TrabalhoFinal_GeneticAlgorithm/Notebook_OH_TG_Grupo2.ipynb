{
 "cells": [
  {
   "cell_type": "markdown",
   "id": "261055e4",
   "metadata": {},
   "source": [
    "<center><br><img src=\"https://www.iscte-iul.pt/assets/images/logo_iscte_detailed.svg\" style=\"width: 200px;\"></center><br>"
   ]
  },
  {
   "cell_type": "markdown",
   "id": "1b3a5c08",
   "metadata": {},
   "source": [
    "\n",
    "   <div><center><h1>OH: Trabalho de Grupo - Algoritmo Genético</h1></center></div>\n",
    "   <div><center><h3>Optimização Heurística</h3></center></div>\n",
    "   <div><center><b>Docente:</b> Anabela Costa</center></div>\n",
    " <br>\n",
    "    <div><center> André Silvestre Nº104532</center></div> \n",
    "    <div><center>Diogo Catarino Nº104745</center></div>\n",
    "    <div><center>Francisco Gomes Nº104944</center></div> \n",
    "    <div><center>Maria Margarida Pereira Nº105877</center></div> \n",
    "    <div><center>Rita Matos Nº104936</center></div>\n",
    "    <div><center><b>Grupo 2</b></center></div>\n",
    "<br>    \n",
    "    <div><center><b>CDB1</b></center></div>\n",
    " <br>\n"
   ]
  },
  {
   "cell_type": "markdown",
   "id": "c9d8d012",
   "metadata": {},
   "source": [
    "# \n",
    "<style>\n",
    "@import url('https://fonts.cdnfonts.com/css/avenir-next-lt-pro?styles=29974');\n",
    "</style>\n",
    "\n",
    "<div style=\"background: linear-gradient(109.6deg, #7030A0, #C00000);\n",
    "            padding: 10px; color: white; border-radius: 300px; text-align: center;\">\n",
    "    <center><h3 style=\"margin-left: 140px;margin-top: 10px; margin-bottom: 4px; color: white;\n",
    "                       font-size: 30px; font-family: 'Avenir Next LT Pro', sans-serif;\">\n",
    "        <b>Metaheurísticas | Algoritmo Genético</b></h3></center>\n",
    "</div>"
   ]
  },
  {
   "cell_type": "markdown",
   "id": "4e57661b",
   "metadata": {},
   "source": [
    "## Enunciado\n",
    "\n",
    "A <i>Química_PT</i> é uma indústria do setor químico e está a planear a execução de dez tarefas independentes, $T1, T2, …, T10$, em três máquinas idênticas, $M1, M2, M3$, que funcionam em paralelo e sem restrições de disponibilidade.\n",
    "A antiguidade das máquinas levou o gestor de produção da <i>Química_PT</i> a definir o número de tarefas a alocar a cada uma das máquinas: $4$, $3$ e $3$ tarefas, respetivamente, para as máquinas $M1$, $M2$ e $M3$.\n",
    "Cada tarefa $T_i, i=1, …,10,$ deve ser processada uma única vez por uma das três máquinas existentes e o respetivo tempo de processamento, $p_i$, em horas, é apresentado na tabela seguinte:\n",
    "\n",
    "\n",
    "<br>\n",
    "\n",
    "| Tarefas | T1 | T2 | T3 | T4 | T5 | T6 | T7 | T8 | T9 | T10 |\n",
    "| :---: | :--- | :--- | :--- | :--- | :--- | :--- | :--- | :--- | :--- | :---: |\n",
    "| Tempo de processamento, em horas, da Tarefa $Ti$ ($p_i$) | 38 | 33 | 36 | 20 | 32 | 29 | 46 | 38 | 34 | 40 |\n",
    "\n",
    "<br>\n",
    "\n",
    "Dada a compatibilidade das tarefas, não será necessário contabilizar tempo entre a execução consecutiva de tarefas, quer seja para limpeza quer seja para mudança de tarefa.\n",
    "Atendendo aos compromissos assumidos, a <i>Química_PT</i> irá iniciar o processamento das tarefas nas três máquinas no dia 1 de junho, às 8h, e tem como obrigatoriedade a conclusão das tarefas $T3$, $T4$ e $T5$ até ao dia 5 de junho, às 8h.\n",
    "A Química_PT pretende:\n",
    "-\tatribuir a execução das dez tarefas às três máquinas; e\n",
    "-\tdeterminar a sequência de processamento das tarefas em cada máquina;\n",
    "\n",
    "que respeite a data de entrega acordada para as tarefas $T3$, $T4$ e $T5$ e minimize o tempo que decorre entre a programação da primeira tarefa apresentada e a conclusão da última tarefa.\n",
    "\n",
    "\n",
    "<br>\n",
    "<br>\n",
    "\n",
    "<ol style=\"list-style-type: lower-latin;\">\n",
    "    <li style=\"font-weight:bold\"><span style=\"font-weight:normal\">Descreva, por palavras, uma solução admissível para o problema da <i>Química_PT</i>.</span></li>\n",
    "    <li style=\"font-weight:bold\"><span style=\"font-weight:normal\">Desenvolva uma heurística para determinar uma sequência de processamento das tarefas em cada máquina que respeite a data de conclusão acordada para as tarefas <b>T3</b>, <b>T4</b> e <b>T5</b>. Com base na heurística desenvolvida, apresente uma solução admissível para o problema da <i>Química_PT</i>.\n",
    "</span></li>\n",
    "    <li style=\"font-weight:bold\"><span style=\"font-weight:normal\">Defina um cromossoma que permita codificar uma sequência de processamento das tarefas em cada máquina.</span></li>\n",
    "    <li style=\"font-weight:bold\"><span style=\"font-weight:normal\">Tendo em conta a codificação que sugeriu em <b>c)</b>, proponha um operador de crossover e exemplifique-o no contexto do problema da <i>Química_PT</i>.</span></li>\n",
    "    <li style=\"font-weight:bold\"><span style=\"font-weight:normal\">Tendo em conta a codificação que sugeriu em <b>c)</b>, proponha um operador de mutação e exemplifique-o no contexto do problema da <i>Química_PT</i>.</span></li>\n",
    "    <li style=\"font-weight:bold\"><span style=\"font-weight:normal\">Os operadores propostos em <b>d)</b> e <b>e)</b> garantem a obtenção de soluções admissíveis para o problema da <i>Química_PT</i>? Caso não garantam, justifique que tipos de inadmissibilidades os operadores indicados podem gerar e indique como pode ultrapassar esta situação na implementação do algoritmo genético.</span></li>\n",
    "    <li style=\"font-weight:bold\"><span style=\"font-weight:normal\">Com base nas alíneas anteriores, implemente um algoritmo genético que permita gerar uma solução admissível de qualidade para o problema da <i>Química_PT</i>. Dê uma breve explicação do algoritmo genético que implementou, nomeadamente dimensão da população, forma como é gerada a população inicial, método de seleção, método de substituição da população e critério(s) de paragem.</span></li>\n",
    "    <li style=\"font-weight:bold\"><span style=\"font-weight:normal\">Execute o código desenvolvido e faça uma breve análise à solução admissível obtida para o problema da <i>Química_PT</i>.</span></li>\n",
    "</ol>"
   ]
  },
  {
   "cell_type": "markdown",
   "id": "ea72f063",
   "metadata": {},
   "source": [
    "<div style=\"background: linear-gradient(109.6deg, #7030A0, #C00000); \n",
    "            padding: .7px; color: white; border-radius: 300px; text-align: center;\">\n",
    "</div>"
   ]
  },
  {
   "cell_type": "markdown",
   "id": "3ab5b016",
   "metadata": {},
   "source": [
    "## Resolução do Algoritmo em Python"
   ]
  },
  {
   "cell_type": "code",
   "execution_count": 1,
   "id": "0fde5b3b",
   "metadata": {},
   "outputs": [],
   "source": [
    "# Import das Bibliotecas\n",
    "import random\n",
    "import numpy as np\n",
    "import pandas as pd\n",
    "import math\n",
    "pd.set_option('display.max_colwidth', None)"
   ]
  },
  {
   "cell_type": "code",
   "execution_count": 2,
   "id": "355a22cc",
   "metadata": {},
   "outputs": [],
   "source": [
    "# Definir dados do problema\n",
    "tarefas = ['T1', 'T2', 'T3', 'T4', 'T5', 'T6', 'T7', 'T8', 'T9', 'T10']\n",
    "tempos = [38, 33, 36, 20, 32, 29, 46, 38, 34, 40]\n",
    "num_tarefas_m1 = 4\n",
    "num_tarefas_m2 = 3\n",
    "num_tarefas_m3 = 3"
   ]
  },
  {
   "cell_type": "markdown",
   "id": "7558266b",
   "metadata": {},
   "source": [
    "---"
   ]
  },
  {
   "cell_type": "markdown",
   "id": "1ce325c8",
   "metadata": {},
   "source": [
    "<div style=\"border: 3px #7030A0; border-style: solid;  \n",
    "            border-radius: 300px; padding: 20px;\">\n",
    "    <center><h1 style=\"margin-top: 2px;color: #7030A0; font-size: 20px;\n",
    "                       font-family: 'Avenir Next LT Pro', sans-serif;\"> Alínea C) Cromossoma</h1></center>\n",
    "</div>"
   ]
  },
  {
   "cell_type": "code",
   "execution_count": 3,
   "id": "2d38b1a7",
   "metadata": {},
   "outputs": [],
   "source": [
    "# Função de aptidão - Para cumprir o objetivo, calculámos o tempo máximo de processamento por máquina\n",
    "def calcular_tempo_max(cromossoma):\n",
    "    tempo_max = 0\n",
    "    m1 = cromossoma[:num_tarefas_m1]\n",
    "    m2 = cromossoma[num_tarefas_m1:num_tarefas_m1+num_tarefas_m2]\n",
    "    m3 = cromossoma[num_tarefas_m1+num_tarefas_m2:]\n",
    "\n",
    "    # Calcular tempo de processamento em cada máquina\n",
    "    tempo_m1 = sum(tempos[tarefa-1] for tarefa in m1)\n",
    "    tempo_m2 = sum(tempos[tarefa-1] for tarefa in m2)\n",
    "    tempo_m3 = sum(tempos[tarefa-1] for tarefa in m3)\n",
    "\n",
    "    # Calcular o tempo máx. de processamento por máquina\n",
    "    tempo_max = max(tempo_m1, tempo_m2, tempo_m3)\n",
    "    \n",
    "    return tempo_max"
   ]
  },
  {
   "cell_type": "code",
   "execution_count": 4,
   "id": "7e1205bd",
   "metadata": {},
   "outputs": [
    {
     "name": "stdout",
     "output_type": "stream",
     "text": [
      "Exemplo: [4, 6, 2, 9, 5, 8, 7, 3, 1, 10]\n",
      "Máquina M1: [4, 6, 2, 9] |  Total =  116\n",
      "Máquina M2: [5, 8, 7] |  Total =  116\n",
      "Máquina M3: [3, 1, 10] |  Total =  114\n",
      "Tempo Máximo: 116\n"
     ]
    }
   ],
   "source": [
    "# Cálculo do tempo máximo de processamento do cromossoma ['T4','T6','T2','T9','T5','T8','T7','T3','T1','T10']\n",
    "cromossoma = [4, 6, 2, 9, 5, 8, 7, 3, 1, 10] # Cromossoma obtido na heurística em b)\n",
    "\n",
    "m1 = cromossoma[:num_tarefas_m1]\n",
    "m2 = cromossoma[num_tarefas_m1:num_tarefas_m1 + num_tarefas_m2]\n",
    "m3 = cromossoma[num_tarefas_m1 + num_tarefas_m2:]\n",
    "print(\"Exemplo:\", cromossoma)\n",
    "print(\"Máquina M1:\", m1, '|  Total = ', sum([tempos[tarefa-1] for tarefa in m1]))\n",
    "print(\"Máquina M2:\", m2, '|  Total = ', sum([tempos[tarefa-1] for tarefa in m2]))\n",
    "print(\"Máquina M3:\", m3, '|  Total = ', sum([tempos[tarefa-1] for tarefa in m3]))\n",
    "print(\"Tempo Máximo:\", calcular_tempo_max(cromossoma))"
   ]
  },
  {
   "cell_type": "markdown",
   "id": "45897111",
   "metadata": {},
   "source": [
    "<br>\n",
    "<br>\n",
    "<div style=\"background: linear-gradient(109.6deg, #7030A0, #C00000); \n",
    "            padding: .7px; color: white; border-radius: 300px; text-align: center;\">\n",
    "</div>\n",
    "<br>\n",
    "<br>"
   ]
  },
  {
   "cell_type": "markdown",
   "id": "fb964622",
   "metadata": {},
   "source": [
    "<div style=\"border: 3px #7030A0; border-style: solid;  \n",
    "            border-radius: 300px; padding: 20px;\">\n",
    "    <center><h1 style=\"margin-top: 2px;color: #7030A0; font-size: 20px;\n",
    "                       font-family: 'Avenir Next LT Pro', sans-serif;\"> Alínea D) Operador de <i>Crossover</i></h1></center>\n",
    "</div>"
   ]
  },
  {
   "cell_type": "code",
   "execution_count": 5,
   "id": "3cc900c2",
   "metadata": {},
   "outputs": [],
   "source": [
    "# Função do Operador de Crossover k=2 pontos\n",
    "def crossover_dois_pontos(pai1, pai2):\n",
    "    ponto_corte1 = random.randint(1, len(tarefas)-2)\n",
    "    # print('m=',ponto_corte1)\n",
    "    ponto_corte2 = random.randint(ponto_corte1+1, len(tarefas)-1)\n",
    "    # print('p=',ponto_corte2)\n",
    "\n",
    "    filho1 = pai1[:ponto_corte1] + pai2[ponto_corte1:ponto_corte2] + pai1[ponto_corte2:]\n",
    "    filho2 = pai2[:ponto_corte1] + pai1[ponto_corte1:ponto_corte2] + pai2[ponto_corte2:]\n",
    "    \n",
    "    return filho1, filho2"
   ]
  },
  {
   "cell_type": "code",
   "execution_count": 6,
   "id": "edd1dd3c",
   "metadata": {},
   "outputs": [
    {
     "name": "stdout",
     "output_type": "stream",
     "text": [
      "Filho 1: [4, 6, 2, 9, 10, 1, 8, 3, 1, 10]\n",
      "Filho 2: [2, 4, 6, 9, 5, 8, 7, 3, 5, 7]\n"
     ]
    }
   ],
   "source": [
    "random.seed(100)   # Para garantir reprodutibilidade dos resultados\n",
    "\n",
    "# Crossover a 2 pontos [Exemplo] - m = 3 e p = 7\n",
    "cromossoma_filho1, cromossoma_filho2 = crossover_dois_pontos([4, 6, 2, 9, 5, 8, 7, 3, 1, 10],[2, 4, 6, 9, 10, 1, 8, 3, 5, 7])\n",
    "print('Filho 1:',cromossoma_filho1)\n",
    "print('Filho 2:',cromossoma_filho2)"
   ]
  },
  {
   "cell_type": "code",
   "execution_count": 7,
   "id": "41a8292f",
   "metadata": {},
   "outputs": [
    {
     "name": "stdout",
     "output_type": "stream",
     "text": [
      "Pai 1: [4, 6, 2, 9, 5, 8, 7, 3, 1, 10]\n",
      "Máquina M1: [4, 6, 2, 9] |  Total =  116\n",
      "Máquina M2: [5, 8, 7] |  Total =  116\n",
      "Máquina M3: [3, 1, 10] |  Total =  114\n",
      "Tempo Máximo: 116\n",
      "\n",
      "\n",
      "Tempo de Conclusão de T3: 36\n",
      "Tempo de Conclusão de T4: 20\n",
      "Tempo de Conclusão de T5: 32\n",
      "\n"
     ]
    }
   ],
   "source": [
    "# Aptidão e Admissibilidade do Cromossoma Pai 1\n",
    "cromossoma_pai1 = [4, 6, 2, 9, 5, 8, 7, 3, 1, 10] \n",
    "m1 = cromossoma_pai1[:num_tarefas_m1]\n",
    "m2 = cromossoma_pai1[num_tarefas_m1:num_tarefas_m1 + num_tarefas_m2]\n",
    "m3 = cromossoma_pai1[num_tarefas_m1 + num_tarefas_m2:]\n",
    "print('Pai 1:', cromossoma_pai1)\n",
    "print(\"Máquina M1:\", m1, '|  Total = ', sum([tempos[tarefa-1] for tarefa in m1]))\n",
    "print(\"Máquina M2:\", m2, '|  Total = ', sum([tempos[tarefa-1] for tarefa in m2]))\n",
    "print(\"Máquina M3:\", m3, '|  Total = ', sum([tempos[tarefa-1] for tarefa in m3]))\n",
    "print(\"Tempo Máximo:\", calcular_tempo_max(cromossoma_pai1))\n",
    "print()\n",
    "print()\n",
    "print('Tempo de Conclusão de T3:', 36)\n",
    "print('Tempo de Conclusão de T4:', 20)\n",
    "print('Tempo de Conclusão de T5:', 32)\n",
    "\n",
    "print()"
   ]
  },
  {
   "cell_type": "code",
   "execution_count": 8,
   "id": "6555cefc",
   "metadata": {},
   "outputs": [
    {
     "name": "stdout",
     "output_type": "stream",
     "text": [
      "Pai 2: [2, 4, 6, 9, 10, 1, 8, 3, 5, 7]\n",
      "Máquina M1: [2, 4, 6, 9] |  Total =  116\n",
      "Máquina M2: [10, 1, 8] |  Total =  116\n",
      "Máquina M3: [3, 5, 7] |  Total =  114\n",
      "Tempo Máximo: 116\n",
      "\n",
      "\n",
      "Tempo de Conclusão de T3: 36\n",
      "Tempo de Conclusão de T4: 53\n",
      "Tempo de Conclusão de T5: 68\n",
      "\n"
     ]
    }
   ],
   "source": [
    "# Aptidão e Admissibilidade do Cromossoma Pai 2\n",
    "cromossoma_pai2 = [2, 4, 6, 9, 10, 1, 8, 3, 5, 7]\n",
    "m1 = cromossoma_pai2[:num_tarefas_m1]\n",
    "m2 = cromossoma_pai2[num_tarefas_m1:num_tarefas_m1 + num_tarefas_m2]\n",
    "m3 = cromossoma_pai2[num_tarefas_m1 + num_tarefas_m2:]\n",
    "print('Pai 2:', cromossoma_pai2)\n",
    "print(\"Máquina M1:\", m1, '|  Total = ', sum([tempos[tarefa-1] for tarefa in m1]))\n",
    "print(\"Máquina M2:\", m2, '|  Total = ', sum([tempos[tarefa-1] for tarefa in m2]))\n",
    "print(\"Máquina M3:\", m3, '|  Total = ', sum([tempos[tarefa-1] for tarefa in m3]))\n",
    "print(\"Tempo Máximo:\", calcular_tempo_max(cromossoma_pai2))\n",
    "print()\n",
    "print()\n",
    "print('Tempo de Conclusão de T3:', 36)\n",
    "print('Tempo de Conclusão de T4:', 33+20)\n",
    "print('Tempo de Conclusão de T5:', 36+32)\n",
    "\n",
    "print()"
   ]
  },
  {
   "cell_type": "code",
   "execution_count": 9,
   "id": "51005fdb",
   "metadata": {},
   "outputs": [
    {
     "name": "stdout",
     "output_type": "stream",
     "text": [
      "Filho 1: [4, 6, 2, 9, 10, 1, 8, 3, 1, 10]\n",
      "Máquina M1: [4, 6, 2, 9] |  Total =  116\n",
      "Máquina M2: [10, 1, 8] |  Total =  116\n",
      "Máquina M3: [3, 1, 10] |  Total =  114\n",
      "\n",
      "A solução é não admissível porque existem tarefas repetidas e em falta!\n",
      "\n"
     ]
    }
   ],
   "source": [
    "# Aptidão e Admissibilidade do Cromossoma Filho 1\n",
    "m1 = cromossoma_filho1[:num_tarefas_m1]\n",
    "m2 = cromossoma_filho1[num_tarefas_m1:num_tarefas_m1 + num_tarefas_m2]\n",
    "m3 = cromossoma_filho1[num_tarefas_m1 + num_tarefas_m2:]\n",
    "print('Filho 1:', cromossoma_filho1)\n",
    "print(\"Máquina M1:\", m1, '|  Total = ', sum([tempos[tarefa-1] for tarefa in m1]))\n",
    "print(\"Máquina M2:\", m2, '|  Total = ', sum([tempos[tarefa-1] for tarefa in m2]))\n",
    "print(\"Máquina M3:\", m3, '|  Total = ', sum([tempos[tarefa-1] for tarefa in m3]))\n",
    "print()\n",
    "print('A solução é não admissível porque existem tarefas repetidas e em falta!')\n",
    "print()"
   ]
  },
  {
   "cell_type": "code",
   "execution_count": 10,
   "id": "abc5c44e",
   "metadata": {},
   "outputs": [
    {
     "name": "stdout",
     "output_type": "stream",
     "text": [
      "Filho 2: [2, 4, 6, 9, 5, 8, 7, 3, 5, 7]\n",
      "Máquina M1: [2, 4, 6, 9] |  Total =  116\n",
      "Máquina M2: [5, 8, 7] |  Total =  116\n",
      "Máquina M3: [3, 5, 7] |  Total =  114\n",
      "\n",
      "\n",
      "A solução é não admissível porque existem tarefas repetidas e em falta!\n",
      "\n"
     ]
    }
   ],
   "source": [
    "# Aptidão e Admissibilidade do Cromossoma resultante da aplicação do operador de mutação\n",
    "m1 = cromossoma_filho2[:num_tarefas_m1]\n",
    "m2 = cromossoma_filho2[num_tarefas_m1:num_tarefas_m1 + num_tarefas_m2]\n",
    "m3 = cromossoma_filho2[num_tarefas_m1 + num_tarefas_m2:]\n",
    "print('Filho 2:', cromossoma_filho2)\n",
    "print(\"Máquina M1:\", m1, '|  Total = ', sum([tempos[tarefa-1] for tarefa in m1]))\n",
    "print(\"Máquina M2:\", m2, '|  Total = ', sum([tempos[tarefa-1] for tarefa in m2]))\n",
    "print(\"Máquina M3:\", m3, '|  Total = ', sum([tempos[tarefa-1] for tarefa in m3]))\n",
    "print()\n",
    "print()\n",
    "print('A solução é não admissível porque existem tarefas repetidas e em falta!')\n",
    "print()"
   ]
  },
  {
   "cell_type": "markdown",
   "id": "eb3b967c",
   "metadata": {},
   "source": [
    "<br>\n",
    "<br>\n",
    "<div style=\"background: linear-gradient(109.6deg, #7030A0, #C00000); \n",
    "            padding: .7px; color: white; border-radius: 300px; text-align: center;\">\n",
    "</div>\n",
    "<br>\n",
    "<br>"
   ]
  },
  {
   "cell_type": "markdown",
   "id": "6a3dfaac",
   "metadata": {},
   "source": [
    "<div style=\"border: 3px #7030A0; border-style: solid;  \n",
    "            border-radius: 300px; padding: 20px;\">\n",
    "    <center><h1 style=\"margin-top: 2px;color: #7030A0; font-size: 20px;\n",
    "                       font-family: 'Avenir Next LT Pro', sans-serif;\"> Alínea E) Operador de Mutação</h1></center>\n",
    "</div>"
   ]
  },
  {
   "cell_type": "code",
   "execution_count": 11,
   "id": "0613a7fa",
   "metadata": {},
   "outputs": [],
   "source": [
    "# Função do Operador de Mutação por Troca\n",
    "def mutacao_troca(individuo):\n",
    "    pos1 = random.randint(0, len(individuo)-1)\n",
    "    # print(pos1)\n",
    "    pos2 = random.randint(0, len(individuo)-1)\n",
    "    # print(pos2)\n",
    "\n",
    "    individuo[pos1], individuo[pos2] = individuo[pos2], individuo[pos1]\n",
    "    \n",
    "    return individuo"
   ]
  },
  {
   "cell_type": "code",
   "execution_count": 12,
   "id": "b26f4c8a",
   "metadata": {},
   "outputs": [
    {
     "data": {
      "text/plain": [
       "[7, 4, 3, 9, 5, 8, 6, 2, 1, 10]"
      ]
     },
     "execution_count": 12,
     "metadata": {},
     "output_type": "execute_result"
    }
   ],
   "source": [
    "random.seed(100)   # Para garantir reprodutibilidade dos resultados\n",
    "\n",
    "# Mutação [Exemplo com u = 0.05 < 0.1] - Trocou o 3º gene e o 7º gene \n",
    "cromossoma_mutacao = mutacao_troca([7, 4, 2, 9, 5, 8, 6, 3, 1, 10])\n",
    "cromossoma_mutacao"
   ]
  },
  {
   "cell_type": "code",
   "execution_count": 13,
   "id": "110e78a8",
   "metadata": {},
   "outputs": [
    {
     "name": "stdout",
     "output_type": "stream",
     "text": [
      "Exemplo do Cromossoma Mutado [7, 4, 3, 9, 5, 8, 6, 2, 1, 10]\n",
      "Máquina M1: [7, 4, 3, 9] |  Total =  136\n",
      "Máquina M2: [5, 8, 6] |  Total =  99\n",
      "Máquina M3: [2, 1, 10] |  Total =  111\n",
      "Tempo Máximo: 136\n",
      "\n",
      "Tempo de Conclusão de T3: 102\n",
      "Tempo de Conclusão de T4: 20\n",
      "Tempo de Conclusão de T5: 32\n",
      "\n",
      "A solução é não admissível poque o tempo de conclusão de T3 é 102h > 96h!\n"
     ]
    }
   ],
   "source": [
    "# Aptidão e Admissibilidade do Cromossoma resultante da aplicação do operador de mutação\n",
    "m1 = cromossoma_mutacao[:num_tarefas_m1]\n",
    "m2 = cromossoma_mutacao[num_tarefas_m1:num_tarefas_m1 + num_tarefas_m2]\n",
    "m3 = cromossoma_mutacao[num_tarefas_m1 + num_tarefas_m2:]\n",
    "print(\"Exemplo do Cromossoma Mutado\", cromossoma_mutacao)\n",
    "print(\"Máquina M1:\", m1, '|  Total = ', sum([tempos[tarefa-1] for tarefa in m1]))\n",
    "print(\"Máquina M2:\", m2, '|  Total = ', sum([tempos[tarefa-1] for tarefa in m2]))\n",
    "print(\"Máquina M3:\", m3, '|  Total = ', sum([tempos[tarefa-1] for tarefa in m3]))\n",
    "print(\"Tempo Máximo:\", calcular_tempo_max(cromossoma_mutacao))\n",
    "print()\n",
    "print('Tempo de Conclusão de T3:', 20+46+36)\n",
    "print('Tempo de Conclusão de T4:', 20)\n",
    "print('Tempo de Conclusão de T5:', 32)\n",
    "print()\n",
    "print('A solução é não admissível poque o tempo de conclusão de T3 é 102h > 96h!')"
   ]
  },
  {
   "cell_type": "markdown",
   "id": "a68098d6",
   "metadata": {},
   "source": [
    "## <br>\n",
    "<br>\n",
    "<div style=\"background: linear-gradient(109.6deg, #7030A0, #C00000); \n",
    "            padding: .7px; color: white; border-radius: 300px; text-align: center;\">\n",
    "</div>\n",
    "<br>\n",
    "<br>"
   ]
  },
  {
   "cell_type": "markdown",
   "id": "13d3b17e",
   "metadata": {},
   "source": [
    "<div style=\"border: 3px #7030A0; border-style: solid;  \n",
    "            border-radius: 300px; padding: 20px;\">\n",
    "    <center><h1 style=\"margin-top: 2px;color: #7030A0; font-size: 20px;\n",
    "                       font-family: 'Avenir Next LT Pro', sans-serif;\"> Alínea F) Soluções Não Admissíveis</h1></center>\n",
    "</div>"
   ]
  },
  {
   "cell_type": "code",
   "execution_count": 14,
   "id": "8dc21a9c",
   "metadata": {},
   "outputs": [],
   "source": [
    "# Função para reparar a admissibilidade da solução nos casos em que as tarefas repetem-se\n",
    "def reparar_admissibilidade_1(cromossoma):\n",
    "    elementos_repetidos = []\n",
    "    elementos_em_falta =[]\n",
    "    elementos_utilizados = set()\n",
    "    \n",
    "    # Encontrar elementos repetidos na solução\n",
    "    for elemento in cromossoma:\n",
    "        if elemento in elementos_utilizados:\n",
    "            elementos_repetidos.append(elemento)\n",
    "        elementos_utilizados.add(elemento)\n",
    "    \n",
    "    # Encontrar elementos em falta na solução\n",
    "    for n in range(1, 11):\n",
    "        if n not in elementos_utilizados:\n",
    "            elementos_em_falta.append(n)\n",
    "\n",
    "    # Substituir as repetições pelos elementos em falta\n",
    "    while elementos_repetidos and elementos_em_falta:\n",
    "        for i, elemento in enumerate(cromossoma):\n",
    "            if elemento in elementos_repetidos:\n",
    "                cromossoma[i] = elementos_em_falta.pop(0)\n",
    "                elementos_repetidos.remove(elemento)\n",
    "\n",
    "    return cromossoma"
   ]
  },
  {
   "cell_type": "code",
   "execution_count": 15,
   "id": "639361f4",
   "metadata": {},
   "outputs": [
    {
     "name": "stdout",
     "output_type": "stream",
     "text": [
      "[1, 2, 3, 4, 5, 6, 7, 8, 9, 10]\n",
      "[4, 6, 2, 9, 3, 5, 8, 7, 1, 10]\n",
      "[1, 2, 3, 4, 5, 6, 7, 8, 9, 10]\n"
     ]
    }
   ],
   "source": [
    "# Verificar em casos de inadmissibilidades relativas à repetição de tarefas e falta de outras\n",
    "print(reparar_admissibilidade_1([1, 2, 3, 4, 5, 6, 7, 8, 9, 10]))\n",
    "\n",
    "print(reparar_admissibilidade_1([4, 6, 2, 9, 10, 1, 8, 10, 1, 10]))\n",
    "print(reparar_admissibilidade_1([10] * 10))"
   ]
  },
  {
   "cell_type": "code",
   "execution_count": 16,
   "id": "336bb591",
   "metadata": {},
   "outputs": [
    {
     "name": "stdout",
     "output_type": "stream",
     "text": [
      "Filho 1 - Original: [4, 6, 2, 9, 10, 1, 8, 3, 1, 10] | Filho 1 - Corrigido: [4, 6, 2, 9, 5, 7, 8, 3, 1, 10]\n",
      "Filho 2 - Original: [2, 4, 6, 9, 5, 8, 7, 3, 5, 7] | Filho 2 - Corrigido: [2, 4, 6, 9, 1, 8, 10, 3, 5, 7]\n"
     ]
    }
   ],
   "source": [
    "# Reparar os cromossomas filhos criados na alínea d) - Operador de Crossover\n",
    "print('Filho 1 - Original:',[4, 6, 2, 9, 10, 1, 8, 3, 1, 10],'| Filho 1 - Corrigido:',reparar_admissibilidade_1([4, 6, 2, 9, 10, 1, 8, 3, 1, 10]))\n",
    "print('Filho 2 - Original:',[2, 4, 6, 9, 5, 8, 7, 3, 5, 7],'| Filho 2 - Corrigido:',reparar_admissibilidade_1([2, 4, 6, 9, 5, 8, 7, 3, 5, 7]))"
   ]
  },
  {
   "cell_type": "code",
   "execution_count": 17,
   "id": "0081265f",
   "metadata": {},
   "outputs": [],
   "source": [
    "def reparar_admissibilidade_2(cromossoma):    \n",
    "    indice_T3 = cromossoma.index(3)  # Encontrar o índice da tarefa T3 no cromossoma\n",
    "    indice_T4 = cromossoma.index(4)  # Encontrar o índice da tarefa T4 no cromossoma\n",
    "    indice_T5 = cromossoma.index(5)  # Encontrar o índice da tarefa T5 no cromossoma\n",
    "\n",
    "    tempo_T3 = 0  # Tempo de conclusão de T3\n",
    "    tempo_T4 = 0  # Tempo de conclusão de T4\n",
    "    tempo_T5 = 0  # Tempo de conclusão de T5\n",
    "\n",
    "    # Verificar a máquina em que estam a ser processadas as tarefas T3, T4 e T5\n",
    "    maquinas = {'M1': cromossoma[:4], 'M2': cromossoma[4:7], 'M3': cromossoma[7:]}\n",
    "    for maquina, tarefas in maquinas.items():\n",
    "        \n",
    "        if 3 in tarefas:\n",
    "            maquina_T3 = maquina\n",
    "            indice_maquina_T3 = tarefas.index(3)\n",
    "            tempo_T3 = sum(tempos[tarefa-1] for tarefa in tarefas[:indice_maquina_T3+1])\n",
    "\n",
    "            # Caso de inadmissibilidade\n",
    "            if tempo_T3 > 96:\n",
    "                # Casos em que há outras tarefas prioritárias (T4 ou T5) a serem processadas na mesma máquina\n",
    "                if 4 in tarefas or 5 in tarefas:\n",
    "                    cromossoma.pop(indice_T3)\n",
    "                    cromossoma.insert(indice_T3-2, 3)\n",
    "\n",
    "                # Caso geral, mover a tarefa T3 um gene para trás\n",
    "                cromossoma[indice_T3], cromossoma[indice_T3-1] = cromossoma[indice_T3-1], cromossoma[indice_T3]\n",
    "\n",
    "        if 4 in tarefas:\n",
    "            maquina_T4 = maquina\n",
    "            indice_maquina_T4 = tarefas.index(4)\n",
    "            tempo_T4 = sum(tempos[tarefa-1] for tarefa in tarefas[:indice_maquina_T4+1])\n",
    "            \n",
    "            # Caso de inadmissibilidade\n",
    "            if tempo_T4 > 96:\n",
    "                # Casos em que há outras tarefas prioritárias (T3 ou T5) a serem processadas na mesma máquina\n",
    "                if 3 in tarefas or 5 in tarefas:\n",
    "                    cromossoma.pop(indice_T4)\n",
    "                    cromossoma.insert(indice_T4-2, 4)\n",
    "                # Caso geral, mover a tarefa T4 um gene para trás\n",
    "                cromossoma[indice_T4], cromossoma[indice_T4-1] = cromossoma[indice_T4-1], cromossoma[indice_T4]\n",
    "\n",
    "                \n",
    "        if 5 in tarefas:\n",
    "            maquina_T5 = maquina\n",
    "            indice_maquina_T5 = tarefas.index(5)\n",
    "            tempo_T5 = sum(tempos[tarefa-1] for tarefa in tarefas[:indice_maquina_T5+1])\n",
    "            \n",
    "            # Caso de inadmissibilidade\n",
    "            if tempo_T5 > 96:\n",
    "                # Casos em que há outras tarefas prioritárias (T3 ou T4) a serem processadas na mesma máquina\n",
    "                if 3 in tarefas or 4 in tarefas:\n",
    "                    cromossoma.pop(indice_T5)\n",
    "                    cromossoma.insert(indice_T5-2, 5)\n",
    "                \n",
    "                # Caso geral, mover a tarefa T5 um gene para trás\n",
    "                cromossoma[indice_T5], cromossoma[indice_T5-1] = cromossoma[indice_T5-1], cromossoma[indice_T5]\n",
    "\n",
    "    return cromossoma"
   ]
  },
  {
   "cell_type": "code",
   "execution_count": 18,
   "id": "f4b49b43",
   "metadata": {},
   "outputs": [
    {
     "name": "stdout",
     "output_type": "stream",
     "text": [
      "Original: [9, 6, 4, 3, 7, 8, 5, 2, 1, 10] | Corrigido: [9, 3, 4, 6, 7, 5, 8, 2, 1, 10]\n"
     ]
    }
   ],
   "source": [
    "# [Verificar casos em que a restrição do tempo de T3, T4 e/ou T5 não seja cumprido]\n",
    "# Tempo de conclusão de T3 = 34 + 29 + 20 + 36 = 119 ❌\n",
    "# Tempo de conclusão de T4 = 34 + 29 + 20 = 83 ✅\n",
    "# Tempo de conclusão de T5 = 46 + 38 + 32 = 116 ❌\n",
    "\n",
    "print('Original:',[9, 6, 4, 3, 7, 8, 5, 2, 1, 10],'| Corrigido:',reparar_admissibilidade_2([9, 6, 4, 3, 7, 8, 5, 2, 1, 10]))\n",
    "\n",
    "# Tempo de conclusão de T3 = 34 + 29 = 63 ✅\n",
    "# Tempo de conclusão de T4 = 34 + 29 + 20 = 83 ✅\n",
    "# Tempo de conclusão de T5 = 46 + 32 = 78 ✅"
   ]
  },
  {
   "cell_type": "code",
   "execution_count": 19,
   "id": "c7445a8f",
   "metadata": {
    "scrolled": true
   },
   "outputs": [
    {
     "name": "stdout",
     "output_type": "stream",
     "text": [
      "Original: [2, 1, 3, 5, 7, 8, 4, 10, 9, 6] | Corrigido: [3, 5, 2, 1, 7, 4, 8, 10, 9, 6]\n",
      "Original: [2, 1, 5, 3, 7, 8, 9, 10, 6, 4] | Corrigido: [5, 3, 2, 1, 7, 8, 9, 10, 6, 4]\n"
     ]
    }
   ],
   "source": [
    "# [Verificar outros casos de inadmissibilidades relativas às 'Tarefas Prioritárias']\n",
    "\n",
    "print('Original:',[2, 1, 3, 5, 7, 8, 4, 10, 9, 6],'| Corrigido:',reparar_admissibilidade_2([2, 1, 3, 5, 7, 8, 4, 10, 9, 6]))\n",
    "# T3 = 107 | T4 = 104 | T5 = 139    -->   T3 = 36 | T4 = 66 | T5 = 68\n",
    "\n",
    "print('Original:',[2, 1, 5, 3, 7, 8, 9, 10, 6, 4],'| Corrigido:',reparar_admissibilidade_2([2, 1, 5, 3, 7, 8, 9, 10, 6, 4]))\n",
    "# T3 = 139 | T4 = 89 | T5 = 103    -->    T3 = 68 | T4 = 89 | T5 = 32"
   ]
  },
  {
   "cell_type": "code",
   "execution_count": 20,
   "id": "67c26cd7",
   "metadata": {},
   "outputs": [
    {
     "name": "stdout",
     "output_type": "stream",
     "text": [
      "Original: [7, 4, 3, 9, 5, 8, 6, 2, 1, 10] | Corrigido: [3, 4, 7, 9, 5, 8, 6, 2, 1, 10]\n"
     ]
    }
   ],
   "source": [
    "# Reparar cromossoma produzido na alínea e) - Operador de Mutação\n",
    "print('Original:',[7, 4, 3, 9, 5, 8, 6, 2, 1, 10],'| Corrigido:',reparar_admissibilidade_2([7, 4, 3, 9, 5, 8, 6, 2, 1, 10]))"
   ]
  },
  {
   "cell_type": "markdown",
   "id": "b96e6943",
   "metadata": {},
   "source": [
    "<br>\n",
    "<br>\n",
    "<div style=\"background: linear-gradient(109.6deg, #7030A0, #C00000); \n",
    "            padding: .7px; color: white; border-radius: 300px; text-align: center;\">\n",
    "</div>\n",
    "<br>\n",
    "<br>"
   ]
  },
  {
   "cell_type": "markdown",
   "id": "28c99760",
   "metadata": {},
   "source": [
    "<div style=\"border: 3px #C00000; border-style: solid;  \n",
    "            border-radius: 300px; padding: 20px;\">\n",
    "    <center><h1 style=\"margin-top: 2px;color: #C00000; font-size: 20px;\n",
    "                       font-family: 'Avenir Next LT Pro', sans-serif;\"> Alínea G)    Algoritmo Genético</h1></center>\n",
    "</div>"
   ]
  },
  {
   "cell_type": "code",
   "execution_count": 21,
   "id": "4cafb263",
   "metadata": {},
   "outputs": [
    {
     "name": "stdout",
     "output_type": "stream",
     "text": [
      "Melhor Solução Admissível 1 :\n",
      "Máquina M1: [4, 5, 6, 2] | Total = 114\n",
      "Máquina M2: [1, 10, 8] | Total = 116\n",
      "Máquina M3: [9, 3, 7] | Total = 116\n",
      "Tempo Máximo: 116\n",
      "\n",
      "\n",
      "Melhor Solução Admissível 2 :\n",
      "Máquina M1: [2, 4, 6, 9] | Total = 116\n",
      "Máquina M2: [8, 10, 1] | Total = 116\n",
      "Máquina M3: [5, 3, 7] | Total = 114\n",
      "Tempo Máximo: 116\n",
      "\n",
      "\n",
      "Melhor Solução Admissível 3 :\n",
      "Máquina M1: [5, 4, 2, 6] | Total = 114\n",
      "Máquina M2: [1, 10, 8] | Total = 116\n",
      "Máquina M3: [9, 3, 7] | Total = 116\n",
      "Tempo Máximo: 116\n",
      "\n",
      "\n",
      "Melhor Solução Admissível 4 :\n",
      "Máquina M1: [2, 9, 4, 6] | Total = 116\n",
      "Máquina M2: [8, 10, 1] | Total = 116\n",
      "Máquina M3: [5, 3, 7] | Total = 114\n",
      "Tempo Máximo: 116\n",
      "\n",
      "\n"
     ]
    }
   ],
   "source": [
    "random.seed(100)   # Para garantir reprodutibilidade dos resultados\n",
    "\n",
    "# Parâmetros do algoritmo genético\n",
    "tam_populacao = 100   # Tem de ser sempre um nº par\n",
    "num_geracoes = 1000\n",
    "taxa_mutacao = 0.1\n",
    "\n",
    "# Função para gerar individuos aleatórios\n",
    "def gerar_individuo():\n",
    "    cromossoma = list(range(1, len(tarefas)+1))\n",
    "    random.shuffle(cromossoma)\n",
    "    return cromossoma\n",
    "\n",
    "# Nº de Possíveis Soluções - Todas as permutações possíveis\n",
    "np = math.factorial(10)\n",
    "\n",
    "# Gerar a população inicial - Inicialização Aleatória\n",
    "populacao = [gerar_individuo() for _ in range(np)]\n",
    "\n",
    "# De modo a não haver país não admissíveis, corrigimos os casos na população\n",
    "populacao = [reparar_admissibilidade_2(individuo) for individuo in populacao]\n",
    "\n",
    "# Algoritmo Genético\n",
    "for geracao in range(num_geracoes):\n",
    "    \n",
    "    # Avaliar a aptidão da população atual\n",
    "    aptidao_populacao = [calcular_tempo_max(individuo) for individuo in populacao]\n",
    "    \n",
    "    # Seleção de pais para reprodução - Seleção Proporcional à Aptidão\n",
    "    pais = random.choices(populacao, weights=[1/aptidao for aptidao in aptidao_populacao], k=tam_populacao)\n",
    "    \n",
    "    # Criar a nova geração (descendentes)\n",
    "    descendentes = []\n",
    "    for i in range(0, tam_populacao, 2):\n",
    "        pai1 = pais[i]\n",
    "        pai2 = pais[i+1]\n",
    "        \n",
    "        # Crossover a k=2 pontos\n",
    "        filho1, filho2 = crossover_dois_pontos(pai1, pai2)\n",
    "        \n",
    "        filho1 = reparar_admissibilidade_1(filho1)          # Resolver, caso exista, inadmissibilidade de tarefas repetidas/em falta\n",
    "        filho1 = reparar_admissibilidade_2(filho1)          # Resolver, caso exista, inadmissibilidade das 'tarefas prioritárias'\n",
    "\n",
    "        filho2 = reparar_admissibilidade_1(filho2)          # Resolver, caso exista, inadmissibilidade de tarefas repetidas/em falta\n",
    "        filho2 = reparar_admissibilidade_2(filho2)          # Resolver, caso exista, inadmissibilidade das 'tarefas prioritárias'\n",
    "        \n",
    "        # Mutação por Troca\n",
    "        if random.random() < taxa_mutacao:\n",
    "            filho1 = mutacao_troca(filho1)\n",
    "            filho1 = reparar_admissibilidade_2(filho1)      # Resolver, caso exista, inadmissibilidade das 'tarefas prioritárias'\n",
    "        if random.random() < taxa_mutacao:\n",
    "            filho2 = mutacao_troca(filho2)\n",
    "            filho2 = reparar_admissibilidade_2(filho2)      # Resolver, caso exista, inadmissibilidade das 'tarefas prioritárias'\n",
    "\n",
    "        descendentes.append(filho1)\n",
    "        descendentes.append(filho2)\n",
    "\n",
    "    # Avaliar a aptidão dos descendentes\n",
    "    aptidao_descendentes = [calcular_tempo_max(individuo) for individuo in descendentes]\n",
    "\n",
    "    # Substituir toda a população pelos descendentes (Método 1 + Elitismo - Garante que ao longo das várias gerações o cromossoma + apto \n",
    "    #                                                                       é sempre mantido como um dos elementos da população)\n",
    "    nova_populacao = [descendentes[i] for i in range(tam_populacao)]\n",
    "\n",
    "    # Encontrar o índice do cromossoma + apto na população atual\n",
    "    indice_mais_apto = aptidao_populacao.index(min(aptidao_populacao))\n",
    "    cromossoma_mais_apto = populacao[indice_mais_apto]\n",
    "    \n",
    "    # Verificar se o cromossoma + apto está na nova população - Caso não esteja, adicionar o + apto e remover o - apto\n",
    "    #                                                           Caso esteja na nova população então podemos prosseguir para a próxima iteração;\n",
    "    if cromossoma_mais_apto not in nova_populacao:\n",
    "        \n",
    "        # Encontrar o índice do cromossoma menos apto na nova população\n",
    "        indice_menos_apto = aptidao_descendentes.index(max(aptidao_descendentes))\n",
    "\n",
    "        # Substituir o cromossoma menos apto pelo cromossoma mais apto = *Retirar* da nova população um cromossoma (o - apto) e *incluir* o cromossoma + apto\n",
    "        nova_populacao[indice_menos_apto] = cromossoma_mais_apto\n",
    "    \n",
    "    # Atualizar a População\n",
    "    populacao = nova_populacao\n",
    "\n",
    "# Encontrar o Melhor Indivíduo (Melhor Solução Admissível)\n",
    "melhor_individuo = min(populacao, key=calcular_tempo_max)\n",
    "\n",
    "melhor_tempo = calcular_tempo_max(populacao[0])  # Calcular o tempo máximo do primeiro indivíduo\n",
    "melhores_solucoes = [populacao[0]]               # Inicialmente, considerar o primeiro indivíduo como o melhor\n",
    "\n",
    "# Percorrer a população e encontrar todos os indivíduos com o mesmo valor mínimo\n",
    "for individuo in populacao[1:]:\n",
    "    tempo = calcular_tempo_max(individuo)\n",
    "    if tempo < melhor_tempo:\n",
    "        melhor_tempo = tempo\n",
    "        melhores_solucoes = [individuo]\n",
    "    elif tempo == melhor_tempo:\n",
    "        melhores_solucoes.append(individuo)\n",
    "\n",
    "# Print da(s) Melhor(es) Solução(ões) Admissível(is) encontrada(s)\n",
    "n = 1\n",
    "for melhor_individuo in melhores_solucoes:\n",
    "    m1 = melhor_individuo[:num_tarefas_m1]\n",
    "    m2 = melhor_individuo[num_tarefas_m1:num_tarefas_m1+num_tarefas_m2]\n",
    "    m3 = melhor_individuo[num_tarefas_m1+num_tarefas_m2:]\n",
    "    print(\"Melhor Solução Admissível\",n,':')\n",
    "    print(\"Máquina M1:\", m1, '| Total =', sum([tempos[tarefa-1] for tarefa in m1]))\n",
    "    print(\"Máquina M2:\", m2, '| Total =', sum([tempos[tarefa-1] for tarefa in m2]))\n",
    "    print(\"Máquina M3:\", m3, '| Total =', sum([tempos[tarefa-1] for tarefa in m3]))\n",
    "    print(\"Tempo Máximo:\", calcular_tempo_max(melhor_individuo))\n",
    "    print()\n",
    "    print()\n",
    "    n += 1"
   ]
  },
  {
   "cell_type": "markdown",
   "id": "cece9f5d",
   "metadata": {},
   "source": [
    "<br>\n",
    "<br>\n",
    "<div style=\"background: linear-gradient(109.6deg, #7030A0, #C00000); \n",
    "            padding: .7px; color: white; border-radius: 300px; text-align: center;\">\n",
    "</div>\n",
    "<br>\n",
    "<br>"
   ]
  }
 ],
 "metadata": {
  "kernelspec": {
   "display_name": "Python 3 (ipykernel)",
   "language": "python",
   "name": "python3"
  },
  "language_info": {
   "codemirror_mode": {
    "name": "ipython",
    "version": 3
   },
   "file_extension": ".py",
   "mimetype": "text/x-python",
   "name": "python",
   "nbconvert_exporter": "python",
   "pygments_lexer": "ipython3",
   "version": "3.9.13"
  }
 },
 "nbformat": 4,
 "nbformat_minor": 5
}
